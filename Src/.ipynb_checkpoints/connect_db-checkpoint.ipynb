{
 "cells": [
  {
   "cell_type": "code",
   "execution_count": 1,
   "id": "57da6071",
   "metadata": {},
   "outputs": [],
   "source": [
    "from flask import Flask\n",
    "from flask_sqlalchemy import SQLAlchemy\n",
    "\n",
    "app = Flask(__name__)\n",
    "\n",
    "app.config[\"SQLALCHEMY_DATABASE_URI\"] = \"mssql+pyodbc://LAPTOP-Q0DB1ITI\\SQLEXPRESS/DB?driver=SQL+Server?trusted_connection=yes\"\n",
    "app.config[\"SQLALCHEMY_TRACK_MODIFICATIONS\"] = False\n",
    "db = SQLAlchemy(app)\n",
    "\n",
    "class audio_data(db.Model):\n",
    "    id = db.Column(db.Integer, primary_key=True)\n",
    "    content = db.Column(db.String(500), unique=True, nullable=False)\n",
    "    audio_path = db.Column(db.String(200), unique=True, nullable=False)\n",
    "    \n",
    "    def __repr__(self):\n",
    "        return \"<Content %r>\" % self.content"
   ]
  },
  {
   "cell_type": "code",
   "execution_count": 2,
   "id": "b1822cfa",
   "metadata": {},
   "outputs": [],
   "source": []
  },
  {
   "cell_type": "code",
   "execution_count": 4,
   "id": "68e24ef5",
   "metadata": {},
   "outputs": [],
   "source": []
  },
  {
   "cell_type": "code",
   "execution_count": 10,
   "id": "3041b9c5",
   "metadata": {},
   "outputs": [],
   "source": []
  },
  {
   "cell_type": "code",
   "execution_count": 18,
   "id": "6b556d58",
   "metadata": {},
   "outputs": [],
   "source": []
  },
  {
   "cell_type": "code",
   "execution_count": 20,
   "id": "97e93558",
   "metadata": {},
   "outputs": [],
   "source": [
    "db.create_all()"
   ]
  },
  {
   "cell_type": "code",
   "execution_count": 21,
   "id": "7140f104",
   "metadata": {},
   "outputs": [],
   "source": [
    "admin = User(username=\"admin\", email=\"admin@gmail.com\")"
   ]
  },
  {
   "cell_type": "code",
   "execution_count": 22,
   "id": "da1ae63b",
   "metadata": {},
   "outputs": [],
   "source": [
    "db.session.add(admin)"
   ]
  },
  {
   "cell_type": "code",
   "execution_count": 23,
   "id": "9648634d",
   "metadata": {},
   "outputs": [],
   "source": [
    "db.session.commit()"
   ]
  },
  {
   "cell_type": "code",
   "execution_count": 25,
   "id": "3d5b1058",
   "metadata": {},
   "outputs": [
    {
     "data": {
      "text/plain": [
       "[<User 'admin'>]"
      ]
     },
     "execution_count": 25,
     "metadata": {},
     "output_type": "execute_result"
    }
   ],
   "source": [
    "User.query.all()"
   ]
  }
 ],
 "metadata": {
  "kernelspec": {
   "display_name": "Python 3",
   "language": "python",
   "name": "python3"
  },
  "language_info": {
   "codemirror_mode": {
    "name": "ipython",
    "version": 3
   },
   "file_extension": ".py",
   "mimetype": "text/x-python",
   "name": "python",
   "nbconvert_exporter": "python",
   "pygments_lexer": "ipython3",
   "version": "3.8.8"
  }
 },
 "nbformat": 4,
 "nbformat_minor": 5
}
